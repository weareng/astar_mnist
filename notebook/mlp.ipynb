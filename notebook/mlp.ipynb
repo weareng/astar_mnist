{
 "cells": [
  {
   "cell_type": "code",
   "execution_count": 1,
   "id": "368435b1-cf96-4b43-bdef-f6d07762ccd6",
   "metadata": {},
   "outputs": [],
   "source": [
    "import torch\n",
    "import torchvision\n",
    "from torch.utils.data import DataLoader\n",
    "from torchvision import datasets\n",
    "from torchvision.transforms import v2"
   ]
  },
  {
   "cell_type": "code",
   "execution_count": 2,
   "id": "620647ff-5040-47eb-bb7e-80be35a2bd66",
   "metadata": {},
   "outputs": [
    {
     "name": "stdout",
     "output_type": "stream",
     "text": [
      "Using device: cuda\n"
     ]
    }
   ],
   "source": [
    "device = torch.device(\"cuda\" if torch.cuda.is_available() else \"cpu\")\n",
    "print(f\"Using device: {device}\")"
   ]
  },
  {
   "cell_type": "code",
   "execution_count": 3,
   "id": "821c1636-4c4e-45d5-902b-836a2054f1b1",
   "metadata": {},
   "outputs": [],
   "source": [
    "batch_size = 32"
   ]
  },
  {
   "cell_type": "code",
   "execution_count": 4,
   "id": "e3d5ed2e-baea-4e88-9268-76a6467b4489",
   "metadata": {},
   "outputs": [],
   "source": [
    "# Simple data augmentation and transformation for now \n",
    "\n",
    "transforms = v2.Compose([\n",
    "    v2.ToImage(),\n",
    "    v2.ToDtype(torch.float32, scale=True)\n",
    "])"
   ]
  },
  {
   "cell_type": "code",
   "execution_count": 5,
   "id": "b6bc8237-37da-4eac-832f-de2fcb93ef46",
   "metadata": {},
   "outputs": [],
   "source": [
    "# 60k train_dataset, 10k test_dataset from MNIST\n",
    "\n",
    "train_dataset = torchvision.datasets.MNIST(root='../dataset/', train=True, transform=transforms, download=True)\n",
    "train_loader = DataLoader(dataset=train_dataset, batch_size=batch_size, shuffle=True)\n",
    "\n",
    "test_dataset = datasets.MNIST(root='../dataset/', train=False, transform=transforms, download=True)\n",
    "test_loader = DataLoader(dataset=test_dataset, batch_size=batch_size, shuffle=True)   "
   ]
  },
  {
   "cell_type": "code",
   "execution_count": 6,
   "id": "1ba0fe7d-b7f5-4c3d-8a45-5e72cc5e8456",
   "metadata": {},
   "outputs": [],
   "source": [
    "import torch.nn as nn\n",
    "import torch.nn.functional as F\n",
    "import torch.optim as optim\n",
    "\n",
    "\n",
    "class MLP(nn.Module):\n",
    "    def __init__(self, input_size, num_classes):\n",
    "        super().__init__()\n",
    "        self.fc1 = nn.Linear(input_size, 50)\n",
    "        self.fc2 = nn.Linear(50, num_classes)\n",
    "\n",
    "    def forward(self, x):\n",
    "        x = F.relu(self.fc1(x))\n",
    "        x = self.fc2(x)\n",
    "        return x"
   ]
  },
  {
   "cell_type": "code",
   "execution_count": 7,
   "id": "cffef303-ce96-4cd0-9ad1-592c07e99787",
   "metadata": {},
   "outputs": [],
   "source": [
    "# Hyperparameters\n",
    "input_size = 784 # 28x28 pixels for each MNIST image\n",
    "num_classes = 10 # prediction 0-9 digits\n",
    "learning_rate = 0.001\n",
    "num_epochs = 5\n",
    "\n",
    "# Initialise Network\n",
    "model = MLP(input_size=input_size, num_classes=num_classes).to(device)\n",
    "\n",
    "# Loss and Optimiser\n",
    "criterion = nn.CrossEntropyLoss()\n",
    "optimiser = optim.Adam(model.parameters(), lr=learning_rate)"
   ]
  },
  {
   "cell_type": "code",
   "execution_count": 8,
   "id": "f7b3e499-7635-4c03-bf1e-04e45a4e6e6d",
   "metadata": {
    "scrolled": true
   },
   "outputs": [
    {
     "name": "stdout",
     "output_type": "stream",
     "text": [
      "Epoch: 0\n",
      "torch.Size([32, 784])\n",
      "Epoch: 1\n",
      "Epoch: 2\n",
      "Epoch: 3\n",
      "Epoch: 4\n"
     ]
    }
   ],
   "source": [
    "# Training the model\n",
    "\n",
    "for epoch in range(num_epochs):\n",
    "    print(f'Epoch: {epoch}')\n",
    "    for batch_indx, (data, targets) in enumerate(train_loader): # (data, targets) == (input features, targets)\n",
    "        data = data.to(device=device)\n",
    "        targets = targets.to(device=device)\n",
    "        \n",
    "        # print(data.shape)  # => [64 , 1, 28, 28] => 64 : num_images aka batch_size, 1 -> num_channels, (28,28): (height, width)\n",
    "        data = data.reshape(data.shape[0], -1) # Flatten from [batch_size, 1, 28, 28] to [batch_size, 784]\n",
    "        if epoch == 0 and batch_indx == 0: \n",
    "            print(data.shape)\n",
    "\n",
    "        # forward\n",
    "        scores = model(data)\n",
    "        loss = criterion(scores, targets)\n",
    "\n",
    "        # backward \n",
    "        optimiser.zero_grad() # before the backward pass, all gradients of the model's parameters are reset to zero. This is necesasry because by defaut, gradients are accumulated by PyTorch.\n",
    "        loss.backward()\n",
    "\n",
    "        # gradient desecent\n",
    "        optimiser.step()\n"
   ]
  },
  {
   "cell_type": "code",
   "execution_count": 12,
   "id": "35886d90-2b90-4e8a-aede-330d97022550",
   "metadata": {
    "scrolled": true
   },
   "outputs": [
    {
     "name": "stdout",
     "output_type": "stream",
     "text": [
      "Accuracy on training data\n",
      "Got 58785/60000 with accuracy  97.97\n",
      "Accuracy on testing data\n",
      "Got 9704/10000 with accuracy  97.04\n"
     ]
    }
   ],
   "source": [
    "def check_accuracy(loader, model): \n",
    "    if loader.dataset.train: \n",
    "        print(\"Accuracy on training data\")\n",
    "    else:\n",
    "        print(\"Accuracy on testing data\")\n",
    "\n",
    "    num_correct = 0\n",
    "    num_samples = 0\n",
    "    model.eval()\n",
    "\n",
    "    with torch.no_grad():\n",
    "        for x, y in loader: \n",
    "            x = x.to(device=device)\n",
    "            y = y.to(device=device)\n",
    "            x = x.reshape(x.shape[0],-1)\n",
    "\n",
    "            scores = model(x)\n",
    "            _, predictions = scores.max(1)\n",
    "\n",
    "            num_correct += (predictions == y).sum()\n",
    "            num_samples += predictions.size(0)\n",
    "\n",
    "        print(f'Got {num_correct}/{num_samples} with accuracy {float(num_correct)/float(num_samples)*100: .2f}')\n",
    "    \n",
    "    model.train()\n",
    "\n",
    "check_accuracy(train_loader, model)\n",
    "check_accuracy(test_loader, model)\n"
   ]
  },
  {
   "cell_type": "code",
   "execution_count": null,
   "id": "2eebb963-2f5b-42a6-9299-58c95ddfd0e9",
   "metadata": {},
   "outputs": [],
   "source": []
  }
 ],
 "metadata": {
  "kernelspec": {
   "display_name": "Python 3 (ipykernel)",
   "language": "python",
   "name": "python3"
  },
  "language_info": {
   "codemirror_mode": {
    "name": "ipython",
    "version": 3
   },
   "file_extension": ".py",
   "mimetype": "text/x-python",
   "name": "python",
   "nbconvert_exporter": "python",
   "pygments_lexer": "ipython3",
   "version": "3.11.9"
  }
 },
 "nbformat": 4,
 "nbformat_minor": 5
}
